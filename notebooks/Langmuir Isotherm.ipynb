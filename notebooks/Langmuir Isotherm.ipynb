{
 "cells": [
  {
   "cell_type": "markdown",
   "metadata": {},
   "source": [
    "## Langmuir isotherm\n",
    "This notebook shows an example use case modelling adsorption in MECSim. MECSim implements Longmuir isother for adsorption modelling. \n",
    "\n",
    "For example, if a specie `A` is undergoing an electron transfer reaction via adsorption, it can be modelled by assuming that there would be empty (filled) sites on the electrode where the specie `A` resides in. \n",
    "\n",
    "If `A` is being reduced `A+` via single electron transfer, adsoprtion part of the electron transfer is modelled by assuming that there are `S*` and `S*+` that faciliate the electron transfer via adsorption. \n",
    "\n",
    "As a result, we model the following reaction mechanism: $$ A^{+} + e \\rightarrow A \\\\ A^{+} +S^{*}_{+} \\rightarrow S^{*}$$"
   ]
  },
  {
   "cell_type": "code",
   "execution_count": 1,
   "metadata": {},
   "outputs": [],
   "source": [
    "import numpy as np\n",
    "from pymecsim import * \n",
    "import matplotlib.pyplot as plt\n",
    "\n",
    "import warnings\n",
    "warnings.filterwarnings('ignore')"
   ]
  },
  {
   "cell_type": "code",
   "execution_count": 2,
   "metadata": {},
   "outputs": [],
   "source": [
    "def test_langmuir_isotherm(exp, Keq, varname, speciename):\n",
    "    \"\"\"Utility function to plot the longmuir isotherm test\n",
    "    \n",
    "    Inputs:\n",
    "    -------\n",
    "        exp         :  A pymecsim experiment class\n",
    "        Keq         :  Equilibrium constant of adsorption reaction\n",
    "        varname     :  Concentration variable that s varied in a lograthim scale of (-4,4)\n",
    "        speciename  : Adsorption specie name to be plotted on the Langmuir isotherm\n",
    "        \n",
    "        \n",
    "    Output:\n",
    "    -------\n",
    "        theta       : array of shape (2,N) with theta values from a theoretical formula and computation using pymecsim\n",
    "    \"\"\"\n",
    "    surface_species = []\n",
    "    for s in exp.mechanism.species:\n",
    "        if s.surface_confined:\n",
    "            surface_species.append(s)\n",
    "    C0 = np.logspace(-4.0,4.0, num=15)\n",
    "    fig, ax = plt.subplots()\n",
    "    theta_mecsim = []\n",
    "    theta_theory = []\n",
    "    for c in C0:\n",
    "        sim = MECSIM(exp=exp)\n",
    "        sim.set_parameter(varname, c)\n",
    "        sim.solve()\n",
    "        concs = sim.get_surface_concentrations()\n",
    "        total_coverage = 0\n",
    "        for s in surface_species:\n",
    "            total_coverage += concs[s.name][-1]\n",
    "        theta_mecsim.append(concs[speciename][-1]/total_coverage)\n",
    "        theta_theory.append((Keq * c) / ( 1.0 + (Keq * c) ) )\n",
    "        \n",
    "    ax.plot(C0, theta_mecsim, label='pymecsim', lw=6)\n",
    "    ax.plot(C0, theta_theory, label='Theory', lw=2)\n",
    "    ax.set_yscale('log')\n",
    "    ax.set_xscale('log')\n",
    "    ax.set_xlabel(r'[A] $mol/cm^3$')\n",
    "    ax.set_ylabel(r'$\\theta_{A*}$')\n",
    "    ax.set_title('Langmuir Isotherm')\n",
    "    ax.legend()\n",
    "    plt.show()\n",
    "    theta = np.column_stack((theta_mecsim, theta_theory))\n",
    "    return theta"
   ]
  },
  {
   "cell_type": "code",
   "execution_count": 3,
   "metadata": {},
   "outputs": [
    {
     "name": "stdout",
     "output_type": "stream",
     "text": [
      "Charge Transfer : 1 A+ + 1 e <=> 1 A  ks= 0.00e+00, E0 = 0.00e+00, alpha = 5.00e-01\n",
      "Chemical Reaction : 1 S+* + 1 A+ <=> 1 S*  kf= 1, kb= 1 \n",
      "\n"
     ]
    },
    {
     "data": {
      "image/png": "[encoded data removed]",
      "text/plain": [
       "<Figure size 432x288 with 1 Axes>"
      ]
     },
     "metadata": {
      "needs_background": "light"
     },
     "output_type": "display_data"
    }
   ],
   "source": [
    "Aplus = Specie('A+', D=1e-5, C0='$C0')\n",
    "A = Specie('A', D=1e-5, C0=0.0)\n",
    "S_plus_star = Specie('S+*', D=0, C0=1e-12, surface_confined=True)\n",
    "S_star = Specie('S*', D=0, C0=0, surface_confined=True)\n",
    "\n",
    "R1 = ChargeTransfer([(Aplus,1),('e',1)],[(A,1)], ks=0.0, E0=0.0)\n",
    "R2 = ChemicalReaction([(S_plus_star,1),(Aplus,1)],[(S_star,1)], kf=1, kb=1)\n",
    "\n",
    "Keq = R2.kf/R2.kb\n",
    "rxn = [R1, R2]\n",
    "\n",
    "mech = Mechanism(rxn)\n",
    "print(mech)\n",
    "\n",
    "cv = DCVoltammetry(E_start = -0.5, E_rev=0.5, nu=0.1)\n",
    "volt = Voltammetry(objs=[cv], N = 14)\n",
    "\n",
    "exp = Experiment(mech, voltammetry=volt)\n",
    "theta = test_langmuir_isotherm(exp, Keq, '$C0', 'S*')"
   ]
  },
  {
   "cell_type": "code",
   "execution_count": null,
   "metadata": {},
   "outputs": [],
   "source": []
  }
 ],
 "metadata": {
  "kernelspec": {
   "display_name": "Python 3",
   "language": "python",
   "name": "python3"
  },
  "language_info": {
   "codemirror_mode": {
    "name": "ipython",
    "version": 3
   },
   "file_extension": ".py",
   "mimetype": "text/x-python",
   "name": "python",
   "nbconvert_exporter": "python",
   "pygments_lexer": "ipython3",
   "version": "3.7.7"
  }
 },
 "nbformat": 4,
 "nbformat_minor": 4
}
